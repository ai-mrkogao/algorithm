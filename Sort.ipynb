{
 "cells": [
  {
   "cell_type": "markdown",
   "metadata": {},
   "source": [
    "## MergeSort"
   ]
  },
  {
   "cell_type": "code",
   "execution_count": 2,
   "metadata": {},
   "outputs": [
    {
     "data": {
      "text/plain": [
       "[1, 2, 3, 4, 5, 6, 7, 8, 9, 10]"
      ]
     },
     "execution_count": 2,
     "metadata": {},
     "output_type": "execute_result"
    }
   ],
   "source": [
    "\n",
    "def merge(a,b):\n",
    "    \"\"\" Function to merge two arrays \"\"\"\n",
    "    c = []\n",
    "    while len(a) != 0 and len(b) != 0:\n",
    "        if a[0] < b[0]:\n",
    "            c.append(a[0])\n",
    "            a.remove(a[0])\n",
    "        else:\n",
    "            c.append(b[0])\n",
    "            b.remove(b[0])\n",
    "    if len(a) == 0:\n",
    "        c += b\n",
    "    else:\n",
    "        c += a\n",
    "    return c\n",
    "\n",
    "# Code for merge sort\n",
    "\n",
    "def mergesort(x):\n",
    "    \"\"\" Function to sort an array using merge sort algorithm \"\"\"\n",
    "    if len(x) == 0 or len(x) == 1:\n",
    "        return x\n",
    "    else:\n",
    "        middle = int(len(x)/2)\n",
    "        a = mergesort(x[:middle])\n",
    "        b = mergesort(x[middle:])\n",
    "        return merge(a,b)\n",
    "\n",
    "    \n",
    "alist = [10,3,6,7,1,2,5,4,8,9]\n",
    "mergesort(alist)"
   ]
  }
 ],
 "metadata": {
  "kernelspec": {
   "display_name": "Python 3",
   "language": "python",
   "name": "python3"
  },
  "language_info": {
   "codemirror_mode": {
    "name": "ipython",
    "version": 3
   },
   "file_extension": ".py",
   "mimetype": "text/x-python",
   "name": "python",
   "nbconvert_exporter": "python",
   "pygments_lexer": "ipython3",
   "version": "3.5.2"
  }
 },
 "nbformat": 4,
 "nbformat_minor": 2
}
